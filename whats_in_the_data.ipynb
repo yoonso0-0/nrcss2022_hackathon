{
 "cells": [
  {
   "cell_type": "code",
   "execution_count": 1,
   "metadata": {},
   "outputs": [],
   "source": [
    "import h5py\n",
    "import numpy as np\n",
    "import os"
   ]
  },
  {
   "cell_type": "markdown",
   "metadata": {},
   "source": [
    "# Einstein Toolkit data"
   ]
  },
  {
   "cell_type": "code",
   "execution_count": 2,
   "metadata": {},
   "outputs": [
    {
     "data": {
      "text/plain": [
       "<KeysViewHDF5 ['Cactus Parameters', 'Global Attributes', 'WAVETOY::phi timelevel 0 at iteration 0']>"
      ]
     },
     "execution_count": 2,
     "metadata": {},
     "output_type": "execute_result"
    }
   ],
   "source": [
    "ETdata = h5py.File(\"ETK_data/ETK_phi.h5\", \"r\")\n",
    "ETxfile = h5py.File(\"ETK_data/x.h5\", \"r\")\n",
    "ETyfile = h5py.File(\"ETK_data/y.h5\", \"r\")\n",
    "ETzfile = h5py.File(\"ETK_data/z.h5\", \"r\")\n",
    "ETdata.keys()"
   ]
  },
  {
   "cell_type": "markdown",
   "metadata": {},
   "source": [
    "### Load grid coordinates from ETK data"
   ]
  },
  {
   "cell_type": "code",
   "execution_count": 3,
   "metadata": {},
   "outputs": [],
   "source": [
    "grid_x = ETxfile.get('GRID::x timelevel 0 at iteration 0')\n",
    "grid_x_arr = np.array(grid_x)\n",
    "grid_y = ETyfile.get('GRID::y timelevel 0 at iteration 0')\n",
    "grid_y_arr = np.array(grid_y)\n",
    "grid_z = ETzfile.get('GRID::z timelevel 0 at iteration 0')\n",
    "grid_z_arr = np.array(grid_z)"
   ]
  },
  {
   "cell_type": "markdown",
   "metadata": {},
   "source": [
    "# Transfer ETK data into Spectre-readable format"
   ]
  },
  {
   "cell_type": "code",
   "execution_count": 4,
   "metadata": {},
   "outputs": [
    {
     "data": {
      "text/plain": [
       "<KeysViewHDF5 ['VolumePsi.vol', 'src.tar.gz']>"
      ]
     },
     "execution_count": 4,
     "metadata": {},
     "output_type": "execute_result"
    }
   ],
   "source": [
    "pwd = os.getcwd()\n",
    "\n",
    "!cp $pwd\"/SpectreVolumeData/PlaneWaveMinkowski3DVolume0.h5\" \"buffer0.h5\"\n",
    "\n",
    "f = h5py.File(\"buffer0.h5\",\"r+\")\n",
    "f.keys()"
   ]
  },
  {
   "cell_type": "code",
   "execution_count": 5,
   "metadata": {},
   "outputs": [
    {
     "data": {
      "text/plain": [
       "<KeysViewHDF5 ['ObservationId8897018137866553916']>"
      ]
     },
     "execution_count": 5,
     "metadata": {},
     "output_type": "execute_result"
    }
   ],
   "source": [
    "VolumePsi = f.get(\"VolumePsi.vol\")\n",
    "VolumePsi.keys()"
   ]
  },
  {
   "cell_type": "code",
   "execution_count": 6,
   "metadata": {},
   "outputs": [
    {
     "data": {
      "text/plain": [
       "<KeysViewHDF5 ['InertialCoordinates_x', 'InertialCoordinates_y', 'InertialCoordinates_z', 'Psi', 'bases', 'connectivity', 'grid_names', 'quadratures', 'total_extents']>"
      ]
     },
     "execution_count": 6,
     "metadata": {},
     "output_type": "execute_result"
    }
   ],
   "source": [
    "ObsId = VolumePsi.get('ObservationId8897018137866553916')\n",
    "ObsId.keys()"
   ]
  },
  {
   "cell_type": "code",
   "execution_count": 7,
   "metadata": {},
   "outputs": [],
   "source": [
    "psi = np.array(ETdata.get(\"WAVETOY::phi timelevel 0 at iteration 0\")).flatten()\n",
    "\n",
    "ObsId.get('InertialCoordinates_x')[:] = grid_x_arr.flatten()\n",
    "ObsId.get('InertialCoordinates_y')[:] = grid_y_arr.flatten()\n",
    "ObsId.get('InertialCoordinates_z')[:] = grid_z_arr.flatten()\n",
    "ObsId.get('Psi')[:] = psi\n",
    "f.close()"
   ]
  },
  {
   "cell_type": "code",
   "execution_count": null,
   "metadata": {},
   "outputs": [],
   "source": []
  }
 ],
 "metadata": {
  "kernelspec": {
   "display_name": "Python 3",
   "language": "python",
   "name": "python3"
  },
  "language_info": {
   "codemirror_mode": {
    "name": "ipython",
    "version": 3
   },
   "file_extension": ".py",
   "mimetype": "text/x-python",
   "name": "python",
   "nbconvert_exporter": "python",
   "pygments_lexer": "ipython3",
   "version": "3.8.10"
  },
  "vscode": {
   "interpreter": {
    "hash": "916dbcbb3f70747c44a77c7bcd40155683ae19c65e1c03b4aa3499c5328201f1"
   }
  }
 },
 "nbformat": 4,
 "nbformat_minor": 5
}
