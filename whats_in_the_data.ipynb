{
 "cells": [
  {
   "cell_type": "code",
   "execution_count": 6,
   "id": "50ffec73",
   "metadata": {},
   "outputs": [],
   "source": [
    "import h5py\n",
    "import numpy as np\n",
    "import os\n",
    "import spectre.IO.H5 as spectreh5\n",
    "import spectre.DataStructures as spectreds\n",
    "import spectre.Spectral as spectral\n",
    "import spectre\n",
    "\n"
   ]
  },
  {
   "cell_type": "markdown",
   "id": "7562a64a",
   "metadata": {},
   "source": [
    "# Spectre Data"
   ]
  },
  {
   "cell_type": "code",
   "execution_count": 4,
   "id": "05aa71fd",
   "metadata": {},
   "outputs": [
    {
     "data": {
      "text/plain": [
       "<KeysViewHDF5 ['VolumePsi.vol', 'src.tar.gz']>"
      ]
     },
     "execution_count": 4,
     "metadata": {},
     "output_type": "execute_result"
    }
   ],
   "source": [
    "pwd = os.getcwd()\n",
    "f = h5py.File(pwd + \"/SpectreVolumeData/PlaneWaveMinkowski3DLowResVolume0.h5\",\"r\")\n",
    "f.keys()"
   ]
  },
  {
   "cell_type": "code",
   "execution_count": 5,
   "id": "64ac7f56",
   "metadata": {},
   "outputs": [],
   "source": [
    "VolumePsi = f.get(\"VolumePsi.vol\")\n",
    "src = f.get(\"src.tar.gz\")"
   ]
  },
  {
   "cell_type": "code",
   "execution_count": 6,
   "id": "b3dd8712",
   "metadata": {},
   "outputs": [
    {
     "data": {
      "text/plain": [
       "<KeysViewHDF5 ['ObservationId8897018137866553916']>"
      ]
     },
     "execution_count": 6,
     "metadata": {},
     "output_type": "execute_result"
    }
   ],
   "source": [
    "VolumePsi.keys()"
   ]
  },
  {
   "cell_type": "code",
   "execution_count": 7,
   "id": "2a7ad8e6",
   "metadata": {},
   "outputs": [],
   "source": [
    "ObsId = VolumePsi.get('ObservationId8897018137866553916')"
   ]
  },
  {
   "cell_type": "code",
   "execution_count": 8,
   "id": "6b0ebdde",
   "metadata": {},
   "outputs": [
    {
     "data": {
      "text/plain": [
       "<KeysViewHDF5 ['InertialCoordinates_x', 'InertialCoordinates_y', 'InertialCoordinates_z', 'Psi', 'bases', 'connectivity', 'grid_names', 'quadratures', 'total_extents']>"
      ]
     },
     "execution_count": 8,
     "metadata": {},
     "output_type": "execute_result"
    }
   ],
   "source": [
    "ObsId.keys()"
   ]
  },
  {
   "cell_type": "code",
   "execution_count": 32,
   "id": "e04f764a",
   "metadata": {},
   "outputs": [
    {
     "name": "stdout",
     "output_type": "stream",
     "text": [
      "[0. 1. 0. 1. 0. 1. 0. 1.] [0. 0. 1. 1. 0. 0. 1. 1.] [0. 0. 0. 0. 1. 1. 1. 1.]\n",
      "[0.         0.84147098 0.84147098 0.90929743 0.84147098 0.90929743\n",
      " 0.90929743 0.14112001]\n"
     ]
    }
   ],
   "source": [
    "x = np.array(ObsId.get('InertialCoordinates_x'))\n",
    "y = np.array(ObsId.get('InertialCoordinates_y'))\n",
    "z = np.array(ObsId.get('InertialCoordinates_z'))\n",
    "psi = np.array(ObsId.get('Psi'))\n",
    "print(x, y, z)\n",
    "print(psi)"
   ]
  },
  {
   "cell_type": "code",
   "execution_count": null,
   "id": "4faa22d8",
   "metadata": {},
   "outputs": [],
   "source": []
  },
  {
   "cell_type": "code",
   "execution_count": null,
   "id": "c842ba56",
   "metadata": {},
   "outputs": [],
   "source": []
  },
  {
   "cell_type": "markdown",
   "id": "324d4caf",
   "metadata": {},
   "source": [
    "# Einstein Toolkit data"
   ]
  },
  {
   "cell_type": "code",
   "execution_count": 24,
   "id": "5607f23e",
   "metadata": {},
   "outputs": [
    {
     "data": {
      "text/plain": [
       "<KeysViewHDF5 ['Cactus Parameters', 'GRID::x timelevel 0 at iteration 0', 'Global Attributes']>"
      ]
     },
     "execution_count": 24,
     "metadata": {},
     "output_type": "execute_result"
    }
   ],
   "source": [
    "ETdata = h5py.File(\"ETK_data/ETK_phi.h5\", \"r\")\n",
    "ETxfile = h5py.File(\"ETK_data/x.h5\", \"r\")\n",
    "ETyfile = h5py.File(\"ETK_data/y.h5\", \"r\")\n",
    "ETzfile = h5py.File(\"ETK_data/z.h5\", \"r\")\n",
    "ETdata.keys()"
   ]
  },
  {
   "cell_type": "code",
   "execution_count": 34,
   "id": "c6fd0d0f",
   "metadata": {},
   "outputs": [
    {
     "name": "stdout",
     "output_type": "stream",
     "text": [
      "[[[-0.15  0.15]\n",
      "  [-0.15  0.15]]\n",
      "\n",
      " [[-0.15  0.15]\n",
      "  [-0.15  0.15]]]\n",
      "[-0.15  0.15 -0.15  0.15 -0.15  0.15 -0.15  0.15]\n",
      "[[[-0.15 -0.15]\n",
      "  [ 0.15  0.15]]\n",
      "\n",
      " [[-0.15 -0.15]\n",
      "  [ 0.15  0.15]]]\n",
      "[[[-0.15 -0.15]\n",
      "  [-0.15 -0.15]]\n",
      "\n",
      " [[ 0.15  0.15]\n",
      "  [ 0.15  0.15]]]\n"
     ]
    }
   ],
   "source": [
    "grid_x = ETxfile.get('GRID::x timelevel 0 at iteration 0')\n",
    "grid_x_arr = np.array(grid_x)\n",
    "print(grid_x_arr)\n",
    "grid_x_arr_flat = grid_x_arr.flatten()\n",
    "print(grid_x_arr_flat)\n",
    "grid_y = ETyfile.get('GRID::y timelevel 0 at iteration 0')\n",
    "grid_y_arr = np.array(grid_y)\n",
    "print(grid_y_arr)\n",
    "grid_z = ETzfile.get('GRID::z timelevel 0 at iteration 0')\n",
    "grid_z_arr = np.array(grid_z)\n",
    "print(grid_z_arr)"
   ]
  },
  {
   "cell_type": "code",
   "execution_count": 17,
   "id": "9913c9ba",
   "metadata": {},
   "outputs": [
    {
     "ename": "RuntimeError",
     "evalue": "\n############ ERROR ############\nShortened stack trace is:\n/home/knelli/Documents/research/spectre/build/bin/python/spectre/IO/H5/_PyH5.so(_ZNK2h56H5FileILNS_10AccessTypeE0EE3getINS_10VolumeDataEJEEERKT_RKNSt7__cxx1112basic_stringIcSt11char_traitsIcESaIcEEEDpOT0_+0x1f5) [0x7f24bc656a55] Address for addr2line: 0xb6a55\n/home/knelli/Documents/research/spectre/build/bin/python/spectre/IO/H5/_PyH5.so(_ZZN11py_bindings16bind_h5file_implILN2h510AccessTypeE0EEEvRN8pybind117module_EENKUlRKNS1_6H5FileILS2_0EEERKNSt7__cxx1112basic_stringIcSt11char_traitsIcESaIcEEEE0_clES9_SH_+0x21) [0x7f24bc656851] Address for addr2line: 0xb6851\n/home/knelli/Documents/research/spectre/build/bin/python/spectre/IO/H5/_PyH5.so(+0xb680f) [0x7f24bc65680f] Address for addr2line: 0xb680f\n/home/knelli/Documents/research/spectre/build/bin/python/spectre/IO/H5/_PyH5.so(+0xb6796) [0x7f24bc656796] Address for addr2line: 0xb6796\n/home/knelli/Documents/research/spectre/build/bin/python/spectre/IO/H5/_PyH5.so(+0xb66c7) [0x7f24bc6566c7] Address for addr2line: 0xb66c7\n/home/knelli/Documents/research/spectre/build/bin/python/spectre/IO/H5/_PyH5.so(+0xb65d5) [0x7f24bc6565d5] Address for addr2line: 0xb65d5\n/home/knelli/Documents/research/spectre/build/bin/python/spectre/IO/H5/_PyH5.so(+0x78ee1) [0x7f24bc618ee1] Address for addr2line: 0x78ee1\n/bin/python3(+0x15b76e) [0x563cabafe76e] Address for addr2line: 0x15b76e\n/bin/python3(_PyObject_MakeTpCall+0x25b) [0x563cabaf530b] Address for addr2line: 0x15230b\n/bin/python3(+0x16999b) [0x563cabb0c99b] Address for addr2line: 0x16999b\nEnd shortened stack trace.\n\nNode: 0 Proc: 0\nLine: 220 of /home/knelli/Documents/research/spectre/src/IO/H5/File.hpp\nFunction: const ObjectType &h5::H5File<h5::AccessType::ReadWrite>::get(const std::string &, Args &&...) const [Access_t = h5::AccessType::ReadWrite, ObjectType = h5::VolumeData, Args = <>]\nObject /volume_data already open. Cannot open object /volume_data.\n############ ERROR ############\n\n",
     "output_type": "error",
     "traceback": [
      "\u001b[0;31m---------------------------------------------------------------------------\u001b[0m",
      "\u001b[0;31mRuntimeError\u001b[0m                              Traceback (most recent call last)",
      "\u001b[0;32m/tmp/ipykernel_432436/2476224640.py\u001b[0m in \u001b[0;36m<module>\u001b[0;34m\u001b[0m\n\u001b[1;32m      2\u001b[0m \u001b[0mspectre_h5\u001b[0m \u001b[0;34m=\u001b[0m \u001b[0mspectreh5\u001b[0m\u001b[0;34m.\u001b[0m\u001b[0mH5File\u001b[0m\u001b[0;34m(\u001b[0m\u001b[0;34m\"testing.h5\"\u001b[0m\u001b[0;34m,\u001b[0m \u001b[0;34m\"w-\"\u001b[0m\u001b[0;34m)\u001b[0m\u001b[0;34m\u001b[0m\u001b[0;34m\u001b[0m\u001b[0m\n\u001b[1;32m      3\u001b[0m \u001b[0mspectre_h5\u001b[0m\u001b[0;34m.\u001b[0m\u001b[0minsert_vol\u001b[0m\u001b[0;34m(\u001b[0m\u001b[0;34m\"/volume_data\"\u001b[0m\u001b[0;34m,\u001b[0m \u001b[0;36m0\u001b[0m\u001b[0;34m)\u001b[0m\u001b[0;34m\u001b[0m\u001b[0;34m\u001b[0m\u001b[0m\n\u001b[0;32m----> 4\u001b[0;31m \u001b[0mvol_file\u001b[0m \u001b[0;34m=\u001b[0m \u001b[0mspectre_h5\u001b[0m\u001b[0;34m.\u001b[0m\u001b[0mget_vol\u001b[0m\u001b[0;34m(\u001b[0m\u001b[0;34m\"/volume_data\"\u001b[0m\u001b[0;34m)\u001b[0m\u001b[0;34m\u001b[0m\u001b[0;34m\u001b[0m\u001b[0m\n\u001b[0m\u001b[1;32m      5\u001b[0m \u001b[0mdatastuff\u001b[0m \u001b[0;34m=\u001b[0m \u001b[0mspectreds\u001b[0m\u001b[0;34m.\u001b[0m\u001b[0mTensorComponent\u001b[0m\u001b[0;34m(\u001b[0m\u001b[0;34m\"blah\"\u001b[0m\u001b[0;34m,\u001b[0m \u001b[0mspectreds\u001b[0m\u001b[0;34m.\u001b[0m\u001b[0mDataVector\u001b[0m\u001b[0;34m(\u001b[0m\u001b[0mnp\u001b[0m\u001b[0;34m.\u001b[0m\u001b[0marray\u001b[0m\u001b[0;34m(\u001b[0m\u001b[0;34m[\u001b[0m\u001b[0;36m0.1\u001b[0m\u001b[0;34m]\u001b[0m\u001b[0;34m)\u001b[0m\u001b[0;34m)\u001b[0m\u001b[0;34m)\u001b[0m\u001b[0;34m\u001b[0m\u001b[0;34m\u001b[0m\u001b[0m\n\u001b[1;32m      6\u001b[0m \u001b[0melement_data\u001b[0m \u001b[0;34m=\u001b[0m \u001b[0mspectreds\u001b[0m\u001b[0;34m.\u001b[0m\u001b[0mElementVolumeData\u001b[0m\u001b[0;34m(\u001b[0m\u001b[0;34m[\u001b[0m\u001b[0;36m3\u001b[0m\u001b[0;34m]\u001b[0m\u001b[0;34m,\u001b[0m \u001b[0;34m[\u001b[0m\u001b[0mdatastuff\u001b[0m\u001b[0;34m]\u001b[0m\u001b[0;34m,\u001b[0m \u001b[0;34m[\u001b[0m\u001b[0mspectral\u001b[0m\u001b[0;34m.\u001b[0m\u001b[0mBasis\u001b[0m\u001b[0;34m.\u001b[0m\u001b[0mFiniteDifference\u001b[0m\u001b[0;34m]\u001b[0m\u001b[0;34m,\u001b[0m \u001b[0;34m[\u001b[0m\u001b[0mspectral\u001b[0m\u001b[0;34m.\u001b[0m\u001b[0mQuadrature\u001b[0m\u001b[0;34m.\u001b[0m\u001b[0mCellCentered\u001b[0m\u001b[0;34m]\u001b[0m\u001b[0;34m,\u001b[0m \u001b[0;34m\"element name\"\u001b[0m\u001b[0;34m)\u001b[0m\u001b[0;34m\u001b[0m\u001b[0;34m\u001b[0m\u001b[0m\n",
      "\u001b[0;31mRuntimeError\u001b[0m: \n############ ERROR ############\nShortened stack trace is:\n/home/knelli/Documents/research/spectre/build/bin/python/spectre/IO/H5/_PyH5.so(_ZNK2h56H5FileILNS_10AccessTypeE0EE3getINS_10VolumeDataEJEEERKT_RKNSt7__cxx1112basic_stringIcSt11char_traitsIcESaIcEEEDpOT0_+0x1f5) [0x7f24bc656a55] Address for addr2line: 0xb6a55\n/home/knelli/Documents/research/spectre/build/bin/python/spectre/IO/H5/_PyH5.so(_ZZN11py_bindings16bind_h5file_implILN2h510AccessTypeE0EEEvRN8pybind117module_EENKUlRKNS1_6H5FileILS2_0EEERKNSt7__cxx1112basic_stringIcSt11char_traitsIcESaIcEEEE0_clES9_SH_+0x21) [0x7f24bc656851] Address for addr2line: 0xb6851\n/home/knelli/Documents/research/spectre/build/bin/python/spectre/IO/H5/_PyH5.so(+0xb680f) [0x7f24bc65680f] Address for addr2line: 0xb680f\n/home/knelli/Documents/research/spectre/build/bin/python/spectre/IO/H5/_PyH5.so(+0xb6796) [0x7f24bc656796] Address for addr2line: 0xb6796\n/home/knelli/Documents/research/spectre/build/bin/python/spectre/IO/H5/_PyH5.so(+0xb66c7) [0x7f24bc6566c7] Address for addr2line: 0xb66c7\n/home/knelli/Documents/research/spectre/build/bin/python/spectre/IO/H5/_PyH5.so(+0xb65d5) [0x7f24bc6565d5] Address for addr2line: 0xb65d5\n/home/knelli/Documents/research/spectre/build/bin/python/spectre/IO/H5/_PyH5.so(+0x78ee1) [0x7f24bc618ee1] Address for addr2line: 0x78ee1\n/bin/python3(+0x15b76e) [0x563cabafe76e] Address for addr2line: 0x15b76e\n/bin/python3(_PyObject_MakeTpCall+0x25b) [0x563cabaf530b] Address for addr2line: 0x15230b\n/bin/python3(+0x16999b) [0x563cabb0c99b] Address for addr2line: 0x16999b\nEnd shortened stack trace.\n\nNode: 0 Proc: 0\nLine: 220 of /home/knelli/Documents/research/spectre/src/IO/H5/File.hpp\nFunction: const ObjectType &h5::H5File<h5::AccessType::ReadWrite>::get(const std::string &, Args &&...) const [Access_t = h5::AccessType::ReadWrite, ObjectType = h5::VolumeData, Args = <>]\nObject /volume_data already open. Cannot open object /volume_data.\n############ ERROR ############\n\n"
     ]
    }
   ],
   "source": [
    "!rm testing.h5\n",
    "spectre_h5 = spectreh5.H5File(\"testing.h5\", \"w-\")\n",
    "vol_file = spectre_h5.insert_vol(\"/volume_data\", 0)\n",
    "datastuff = spectreds.TensorComponent(\"blah\", spectreds.DataVector(np.array([0.1])))\n",
    "element_data = spectreds.ElementVolumeData([3], [datastuff], [spectral.Basis.FiniteDifference], [spectral.Quadrature.CellCentered], \"element name\")\n",
    "vol_file.write_volume_data(0, 0.5, [element_data])\n",
    "spectre_h5.close()"
   ]
  },
  {
   "cell_type": "code",
   "execution_count": 22,
   "id": "11b78385",
   "metadata": {
    "scrolled": true
   },
   "outputs": [
    {
     "name": "stdout",
     "output_type": "stream",
     "text": [
      "(655,)\n"
     ]
    }
   ],
   "source": [
    "cactus_param = np.array(ETdata.get('Cactus Parameters/All Parameters'))\n",
    "print (cactus_param.shape)"
   ]
  },
  {
   "cell_type": "code",
   "execution_count": 18,
   "id": "fc3f0caa",
   "metadata": {},
   "outputs": [
    {
     "data": {
      "text/plain": [
       "<HDF5 group \"/Global Attributes\" (0 members)>"
      ]
     },
     "execution_count": 18,
     "metadata": {},
     "output_type": "execute_result"
    }
   ],
   "source": [
    "global_attr = ETdata.get('Global Attributes')\n",
    "global_attr"
   ]
  },
  {
   "cell_type": "code",
   "execution_count": 19,
   "id": "f638516c",
   "metadata": {
    "scrolled": true
   },
   "outputs": [
    {
     "data": {
      "text/plain": [
       "array([[[0.99142726, 0.99142726],\n",
       "        [0.99142726, 0.99142726]],\n",
       "\n",
       "       [[0.99142726, 0.99142726],\n",
       "        [0.99142726, 0.99142726]]])"
      ]
     },
     "execution_count": 19,
     "metadata": {},
     "output_type": "execute_result"
    }
   ],
   "source": [
    "t0 = np.array(ETdata.get( 'WAVETOY::phi timelevel 0 at iteration 0'))\n",
    "t0"
   ]
  },
  {
   "cell_type": "code",
   "execution_count": 20,
   "id": "a4d0efc3",
   "metadata": {},
   "outputs": [
    {
     "name": "stdout",
     "output_type": "stream",
     "text": [
      "[[[0.99142726 0.99142726]\n",
      "  [0.99142726 0.99142726]]\n",
      "\n",
      " [[0.99142726 0.99142726]\n",
      "  [0.99142726 0.99142726]]]\n"
     ]
    }
   ],
   "source": [
    "print (t0)"
   ]
  },
  {
   "cell_type": "code",
   "execution_count": null,
   "id": "e4f94172",
   "metadata": {},
   "outputs": [],
   "source": []
  }
 ],
 "metadata": {
  "kernelspec": {
   "display_name": "Python 3.10.4 64-bit",
   "language": "python",
   "name": "python3"
  },
  "language_info": {
   "codemirror_mode": {
    "name": "ipython",
    "version": 3
   },
   "file_extension": ".py",
   "mimetype": "text/x-python",
   "name": "python",
   "nbconvert_exporter": "python",
   "pygments_lexer": "ipython3",
   "version": "3.10.4"
  },
  "vscode": {
   "interpreter": {
    "hash": "916dbcbb3f70747c44a77c7bcd40155683ae19c65e1c03b4aa3499c5328201f1"
   }
  }
 },
 "nbformat": 4,
 "nbformat_minor": 5
}
