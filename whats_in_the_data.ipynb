{
 "cells": [
  {
   "cell_type": "code",
   "execution_count": 1,
   "id": "50ffec73",
   "metadata": {},
   "outputs": [],
   "source": [
    "import h5py\n",
    "import numpy as np\n",
    "import os\n",
    "\n"
   ]
  },
  {
   "cell_type": "markdown",
   "id": "7562a64a",
   "metadata": {},
   "source": [
    "# Spectre Data"
   ]
  },
  {
   "cell_type": "code",
   "execution_count": 1,
   "id": "05aa71fd",
   "metadata": {},
   "outputs": [
    {
     "ename": "AttributeError",
     "evalue": "module 'os' has no attribute 'get_pwd'",
     "output_type": "error",
     "traceback": [
      "\u001b[0;31m---------------------------------------------------------------------------\u001b[0m",
      "\u001b[0;31mAttributeError\u001b[0m                            Traceback (most recent call last)",
      "\u001b[0;32m/tmp/ipykernel_428298/3045933687.py\u001b[0m in \u001b[0;36m<module>\u001b[0;34m\u001b[0m\n\u001b[0;32m----> 1\u001b[0;31m \u001b[0mpwd\u001b[0m \u001b[0;34m=\u001b[0m \u001b[0mos\u001b[0m\u001b[0;34m.\u001b[0m\u001b[0mget_pwd\u001b[0m\u001b[0;34m(\u001b[0m\u001b[0;34m)\u001b[0m\u001b[0;34m\u001b[0m\u001b[0;34m\u001b[0m\u001b[0m\n\u001b[0m\u001b[1;32m      2\u001b[0m \u001b[0mf\u001b[0m \u001b[0;34m=\u001b[0m \u001b[0mh5py\u001b[0m\u001b[0;34m.\u001b[0m\u001b[0mFile\u001b[0m\u001b[0;34m(\u001b[0m\u001b[0mpwd\u001b[0m \u001b[0;34m+\u001b[0m \u001b[0;34m\"/SpectreVolumeData/PlaneWaveMinkowski3DLowResVolume0.h5\"\u001b[0m\u001b[0;34m,\u001b[0m\u001b[0;34m\"r\"\u001b[0m\u001b[0;34m)\u001b[0m\u001b[0;34m\u001b[0m\u001b[0;34m\u001b[0m\u001b[0m\n\u001b[1;32m      3\u001b[0m \u001b[0mf\u001b[0m\u001b[0;34m.\u001b[0m\u001b[0mkeys\u001b[0m\u001b[0;34m(\u001b[0m\u001b[0;34m)\u001b[0m\u001b[0;34m\u001b[0m\u001b[0;34m\u001b[0m\u001b[0m\n",
      "\u001b[0;31mAttributeError\u001b[0m: module 'os' has no attribute 'get_pwd'"
     ]
    }
   ],
   "source": [
    "pwd = os.getcwd()\n",
    "f = h5py.File(pwd + \"/SpectreVolumeData/PlaneWaveMinkowski3DLowResVolume0.h5\",\"r\")\n",
    "f.keys()"
   ]
  },
  {
   "cell_type": "code",
   "execution_count": 6,
   "id": "64ac7f56",
   "metadata": {},
   "outputs": [],
   "source": [
    "VolumePsi = f.get(\"VolumePsi.vol\")\n",
    "src = f.get(\"src.tar.gz\")"
   ]
  },
  {
   "cell_type": "code",
   "execution_count": 7,
   "id": "b3dd8712",
   "metadata": {},
   "outputs": [
    {
     "data": {
      "text/plain": [
       "<KeysViewHDF5 ['ObservationId8897018137866553916']>"
      ]
     },
     "execution_count": 7,
     "metadata": {},
     "output_type": "execute_result"
    }
   ],
   "source": [
    "VolumePsi.keys()"
   ]
  },
  {
   "cell_type": "code",
   "execution_count": 8,
   "id": "2a7ad8e6",
   "metadata": {},
   "outputs": [],
   "source": [
    "ObsId = VolumePsi.get('ObservationId8897018137866553916')"
   ]
  },
  {
   "cell_type": "code",
   "execution_count": 9,
   "id": "6b0ebdde",
   "metadata": {},
   "outputs": [
    {
     "data": {
      "text/plain": [
       "<KeysViewHDF5 ['InertialCoordinates_x', 'InertialCoordinates_y', 'InertialCoordinates_z', 'Psi', 'bases', 'connectivity', 'grid_names', 'quadratures', 'total_extents']>"
      ]
     },
     "execution_count": 9,
     "metadata": {},
     "output_type": "execute_result"
    }
   ],
   "source": [
    "ObsId.keys()"
   ]
  },
  {
   "cell_type": "code",
   "execution_count": 10,
   "id": "e04f764a",
   "metadata": {},
   "outputs": [],
   "source": [
    "x = np.array(ObsId.get('InertialCoordinates_x'))\n",
    "y = np.array(ObsId.get('InertialCoordinates_y'))\n",
    "z = np.array(ObsId.get('InertialCoordinates_y'))"
   ]
  },
  {
   "cell_type": "code",
   "execution_count": null,
   "id": "4faa22d8",
   "metadata": {},
   "outputs": [],
   "source": []
  },
  {
   "cell_type": "code",
   "execution_count": null,
   "id": "c842ba56",
   "metadata": {},
   "outputs": [],
   "source": []
  },
  {
   "cell_type": "markdown",
   "id": "324d4caf",
   "metadata": {},
   "source": [
    "# Einstein Toolkit data"
   ]
  },
  {
   "cell_type": "code",
   "execution_count": 13,
   "id": "5607f23e",
   "metadata": {},
   "outputs": [
    {
     "data": {
      "text/plain": [
       "<KeysViewHDF5 ['Cactus Parameters', 'Global Attributes', 'WAVETOY::phi timelevel 0 at iteration 0', 'WAVETOY::phi timelevel 0 at iteration 10', 'WAVETOY::phi timelevel 0 at iteration 100', 'WAVETOY::phi timelevel 0 at iteration 110', 'WAVETOY::phi timelevel 0 at iteration 120', 'WAVETOY::phi timelevel 0 at iteration 130', 'WAVETOY::phi timelevel 0 at iteration 140', 'WAVETOY::phi timelevel 0 at iteration 150', 'WAVETOY::phi timelevel 0 at iteration 160', 'WAVETOY::phi timelevel 0 at iteration 170', 'WAVETOY::phi timelevel 0 at iteration 180', 'WAVETOY::phi timelevel 0 at iteration 190', 'WAVETOY::phi timelevel 0 at iteration 20', 'WAVETOY::phi timelevel 0 at iteration 200', 'WAVETOY::phi timelevel 0 at iteration 210', 'WAVETOY::phi timelevel 0 at iteration 220', 'WAVETOY::phi timelevel 0 at iteration 230', 'WAVETOY::phi timelevel 0 at iteration 240', 'WAVETOY::phi timelevel 0 at iteration 250', 'WAVETOY::phi timelevel 0 at iteration 260', 'WAVETOY::phi timelevel 0 at iteration 270', 'WAVETOY::phi timelevel 0 at iteration 280', 'WAVETOY::phi timelevel 0 at iteration 290', 'WAVETOY::phi timelevel 0 at iteration 30', 'WAVETOY::phi timelevel 0 at iteration 300', 'WAVETOY::phi timelevel 0 at iteration 310', 'WAVETOY::phi timelevel 0 at iteration 320', 'WAVETOY::phi timelevel 0 at iteration 330', 'WAVETOY::phi timelevel 0 at iteration 340', 'WAVETOY::phi timelevel 0 at iteration 350', 'WAVETOY::phi timelevel 0 at iteration 360', 'WAVETOY::phi timelevel 0 at iteration 370', 'WAVETOY::phi timelevel 0 at iteration 380', 'WAVETOY::phi timelevel 0 at iteration 390', 'WAVETOY::phi timelevel 0 at iteration 40', 'WAVETOY::phi timelevel 0 at iteration 400', 'WAVETOY::phi timelevel 0 at iteration 410', 'WAVETOY::phi timelevel 0 at iteration 420', 'WAVETOY::phi timelevel 0 at iteration 430', 'WAVETOY::phi timelevel 0 at iteration 440', 'WAVETOY::phi timelevel 0 at iteration 450', 'WAVETOY::phi timelevel 0 at iteration 460', 'WAVETOY::phi timelevel 0 at iteration 470', 'WAVETOY::phi timelevel 0 at iteration 480', 'WAVETOY::phi timelevel 0 at iteration 490', 'WAVETOY::phi timelevel 0 at iteration 50', 'WAVETOY::phi timelevel 0 at iteration 500', 'WAVETOY::phi timelevel 0 at iteration 60', 'WAVETOY::phi timelevel 0 at iteration 70', 'WAVETOY::phi timelevel 0 at iteration 80', 'WAVETOY::phi timelevel 0 at iteration 90']>"
      ]
     },
     "execution_count": 13,
     "metadata": {},
     "output_type": "execute_result"
    }
   ],
   "source": [
    "ETdata = h5py.File(\"ETK_phi.h5\", \"r\")\n",
    "ETdata.keys()"
   ]
  },
  {
   "cell_type": "code",
   "execution_count": 41,
   "id": "11b78385",
   "metadata": {
    "scrolled": true
   },
   "outputs": [
    {
     "name": "stdout",
     "output_type": "stream",
     "text": [
      "(642,)\n",
      "[119  97 118 101 116 111 121  58  58  98 111 117 110 100  32  61  32 110\n",
      " 111 110 101  10  84 105 109 101  58  58 100 116 102  97  99  32  61  32\n",
      "  48  46  53  10  80  85  71  72  58  58 103 108 111  98  97 108  95 110\n",
      " 120  32  61  32  51  48  10  80  85  71  72  58  58 103 108 111  98  97\n",
      " 108  95 110 121  32  61  32  51  48  10  80  85  71  72  58  58 103 108\n",
      " 111  98  97 108  95 110 122  32  61  32  51  48  10  73  79  58  58 111\n",
      " 117 116  95 100 105 114  32  61  32 119  97 118 101 116 111 121  99  95\n",
      " 110 111 110 101  10  73  79  72  68  70  53  58  58 111 117 116  95 101\n",
      " 118 101 114 121  32  61  32  49  48  10  73  79  72  68  70  53  58  58\n",
      " 111 117 116  95 118  97 114 115  32  61  32 119  97 118 101 116 111 121\n",
      "  58  58 112 104 105  10  73  79  66  97 115 105  99  58  58 111 117 116\n",
      "  73 110 102 111  95 101 118 101 114 121  32  61  32  53  48  10  73  79\n",
      "  66  97 115 105  99  58  58 111 117 116  73 110 102 111  95 118  97 114\n",
      " 115  32  61  32 119  97 118 101 116 111 121  58  58 112 104 105  10  73\n",
      "  79  66  97 115 105  99  58  58 111 117 116  83  99  97 108  97 114  95\n",
      " 101 118 101 114 121  32  61  32  49  48  10  73  79  66  97 115 105  99\n",
      "  58  58 111 117 116  83  99  97 108  97 114  95 118  97 114 115  32  61\n",
      "  32 119  97 118 101 116 111 121  58  58 112 104 105  10  73  79  65  83\n",
      "  67  73  73  58  58 111 117 116  49  68  95 101 118 101 114 121  32  61\n",
      "  32  49  48  10  73  79  65  83  67  73  73  58  58 111 117 116  49  68\n",
      "  95 118  97 114 115  32  61  32 119  97 118 101 116 111 121  58  58 112\n",
      " 104 105  32  10  73  79  65  83  67  73  73  58  58 111 117 116  49  68\n",
      "  95 121  32  61  32 110 111  10  73  79  65  83  67  73  73  58  58 111\n",
      " 117 116  49  68  95 122  32  61  32 110 111  10 105 100 115  99  97 108\n",
      "  97 114 119  97 118 101  58  58 105 110 105 116 105  97 108  95 100  97\n",
      " 116  97  32  61  32 103  97 117 115 115 105  97 110  10  73  68  83  99\n",
      "  97 108  97 114  87  97 118 101  67  58  58 114  97 100 105 117 115  32\n",
      "  61  32  48  10  73  68  83  99  97 108  97 114  87  97 118 101  67  58\n",
      "  58 115 105 103 109  97  32  61  32  50  46  55  57  57  57  57  57  57\n",
      "  57  57  57  57  57  57  57  57  56  50  50  52  10 103 114 105 100  58\n",
      "  58 100 111 109  97 105 110  32  61  32 111  99 116  97 110 116  10 103\n",
      " 114 105 100  58  58 100 120 121 122  32  61  32  48  46  50  57  57  57\n",
      "  57  57  57  57  57  57  57  57  57  57  57  57  56  56  57  10 103 114\n",
      " 105 100  58  58 116 121 112 101  32  61  32  66 121  83 112  97  99 105\n",
      " 110 103  10  67  97  99 116 117 115  58  58  99  99 116 107  95 105 116\n",
      " 108  97 115 116  32  61  32  53  48  48  10   0]\n"
     ]
    }
   ],
   "source": [
    "cactus_param = np.array(ETdata.get('Cactus Parameters/All Parameters'))\n",
    "print (cactus_param.shape)\n",
    "print (cactus_param)"
   ]
  },
  {
   "cell_type": "code",
   "execution_count": 38,
   "id": "fc3f0caa",
   "metadata": {},
   "outputs": [
    {
     "data": {
      "text/plain": [
       "<HDF5 group \"/Global Attributes\" (0 members)>"
      ]
     },
     "execution_count": 38,
     "metadata": {},
     "output_type": "execute_result"
    }
   ],
   "source": [
    "global_attr = ETdata.get('Global Attributes')\n",
    "global_attr"
   ]
  },
  {
   "cell_type": "code",
   "execution_count": 24,
   "id": "f638516c",
   "metadata": {
    "scrolled": true
   },
   "outputs": [
    {
     "data": {
      "text/plain": [
       "array([[[9.91427263e-01, 9.91427263e-01, 9.68924217e-01, ...,\n",
       "         3.13634218e-04, 1.68735000e-04, 8.87188422e-05],\n",
       "        [9.91427263e-01, 9.91427263e-01, 9.68924217e-01, ...,\n",
       "         3.13634218e-04, 1.68735000e-04, 8.87188422e-05],\n",
       "        [9.68924217e-01, 9.68924217e-01, 9.46931936e-01, ...,\n",
       "         3.06515465e-04, 1.64905116e-04, 8.67051350e-05],\n",
       "        ...,\n",
       "        [3.13634218e-04, 3.13634218e-04, 3.06515465e-04, ...,\n",
       "         9.92169835e-08, 5.33786709e-08, 2.80658659e-08],\n",
       "        [1.68735000e-04, 1.68735000e-04, 1.64905116e-04, ...,\n",
       "         5.33786709e-08, 2.87176893e-08, 1.50994171e-08],\n",
       "        [8.87188422e-05, 8.87188422e-05, 8.67051350e-05, ...,\n",
       "         2.80658659e-08, 1.50994171e-08, 7.93909271e-09]],\n",
       "\n",
       "       [[9.91427263e-01, 9.91427263e-01, 9.68924217e-01, ...,\n",
       "         3.13634218e-04, 1.68735000e-04, 8.87188422e-05],\n",
       "        [9.91427263e-01, 9.91427263e-01, 9.68924217e-01, ...,\n",
       "         3.13634218e-04, 1.68735000e-04, 8.87188422e-05],\n",
       "        [9.68924217e-01, 9.68924217e-01, 9.46931936e-01, ...,\n",
       "         3.06515465e-04, 1.64905116e-04, 8.67051350e-05],\n",
       "        ...,\n",
       "        [3.13634218e-04, 3.13634218e-04, 3.06515465e-04, ...,\n",
       "         9.92169835e-08, 5.33786709e-08, 2.80658659e-08],\n",
       "        [1.68735000e-04, 1.68735000e-04, 1.64905116e-04, ...,\n",
       "         5.33786709e-08, 2.87176893e-08, 1.50994171e-08],\n",
       "        [8.87188422e-05, 8.87188422e-05, 8.67051350e-05, ...,\n",
       "         2.80658659e-08, 1.50994171e-08, 7.93909271e-09]],\n",
       "\n",
       "       [[9.68924217e-01, 9.68924217e-01, 9.46931936e-01, ...,\n",
       "         3.06515465e-04, 1.64905116e-04, 8.67051350e-05],\n",
       "        [9.68924217e-01, 9.68924217e-01, 9.46931936e-01, ...,\n",
       "         3.06515465e-04, 1.64905116e-04, 8.67051350e-05],\n",
       "        [9.46931936e-01, 9.46931936e-01, 9.25438828e-01, ...,\n",
       "         2.99558291e-04, 1.61162161e-04, 8.47371342e-05],\n",
       "        ...,\n",
       "        [3.06515465e-04, 3.06515465e-04, 2.99558291e-04, ...,\n",
       "         9.69649934e-08, 5.21671017e-08, 2.74288374e-08],\n",
       "        [1.64905116e-04, 1.64905116e-04, 1.61162161e-04, ...,\n",
       "         5.21671017e-08, 2.80658659e-08, 1.47566962e-08],\n",
       "        [8.67051350e-05, 8.67051350e-05, 8.47371342e-05, ...,\n",
       "         2.74288374e-08, 1.47566962e-08, 7.75889414e-09]],\n",
       "\n",
       "       ...,\n",
       "\n",
       "       [[3.13634218e-04, 3.13634218e-04, 3.06515465e-04, ...,\n",
       "         9.92169835e-08, 5.33786709e-08, 2.80658659e-08],\n",
       "        [3.13634218e-04, 3.13634218e-04, 3.06515465e-04, ...,\n",
       "         9.92169835e-08, 5.33786709e-08, 2.80658659e-08],\n",
       "        [3.06515465e-04, 3.06515465e-04, 2.99558291e-04, ...,\n",
       "         9.69649934e-08, 5.21671017e-08, 2.74288374e-08],\n",
       "        ...,\n",
       "        [9.92169835e-08, 9.92169835e-08, 9.69649934e-08, ...,\n",
       "         3.13869127e-11, 1.68861381e-11, 8.87852919e-12],\n",
       "        [5.33786709e-08, 5.33786709e-08, 5.21671017e-08, ...,\n",
       "         1.68861381e-11, 9.08473103e-12, 4.77664278e-12],\n",
       "        [2.80658659e-08, 2.80658659e-08, 2.74288374e-08, ...,\n",
       "         8.87852919e-12, 4.77664278e-12, 2.51150157e-12]],\n",
       "\n",
       "       [[1.68735000e-04, 1.68735000e-04, 1.64905116e-04, ...,\n",
       "         5.33786709e-08, 2.87176893e-08, 1.50994171e-08],\n",
       "        [1.68735000e-04, 1.68735000e-04, 1.64905116e-04, ...,\n",
       "         5.33786709e-08, 2.87176893e-08, 1.50994171e-08],\n",
       "        [1.64905116e-04, 1.64905116e-04, 1.61162161e-04, ...,\n",
       "         5.21671017e-08, 2.80658659e-08, 1.47566962e-08],\n",
       "        ...,\n",
       "        [5.33786709e-08, 5.33786709e-08, 5.21671017e-08, ...,\n",
       "         1.68861381e-11, 9.08473103e-12, 4.77664278e-12],\n",
       "        [2.87176893e-08, 2.87176893e-08, 2.80658659e-08, ...,\n",
       "         9.08473103e-12, 4.88757923e-12, 2.56983063e-12],\n",
       "        [1.50994171e-08, 1.50994171e-08, 1.47566962e-08, ...,\n",
       "         4.77664278e-12, 2.56983063e-12, 1.35118617e-12]],\n",
       "\n",
       "       [[8.87188422e-05, 8.87188422e-05, 8.67051350e-05, ...,\n",
       "         2.80658659e-08, 1.50994171e-08, 7.93909271e-09],\n",
       "        [8.87188422e-05, 8.87188422e-05, 8.67051350e-05, ...,\n",
       "         2.80658659e-08, 1.50994171e-08, 7.93909271e-09],\n",
       "        [8.67051350e-05, 8.67051350e-05, 8.47371342e-05, ...,\n",
       "         2.74288374e-08, 1.47566962e-08, 7.75889414e-09],\n",
       "        ...,\n",
       "        [2.80658659e-08, 2.80658659e-08, 2.74288374e-08, ...,\n",
       "         8.87852919e-12, 4.77664278e-12, 2.51150157e-12],\n",
       "        [1.50994171e-08, 1.50994171e-08, 1.47566962e-08, ...,\n",
       "         4.77664278e-12, 2.56983063e-12, 1.35118617e-12],\n",
       "        [7.93909271e-09, 7.93909271e-09, 7.75889414e-09, ...,\n",
       "         2.51150157e-12, 1.35118617e-12, 7.10437507e-13]]])"
      ]
     },
     "execution_count": 24,
     "metadata": {},
     "output_type": "execute_result"
    }
   ],
   "source": [
    "t0 = np.array(ETdata.get( 'WAVETOY::phi timelevel 0 at iteration 0'))\n",
    "t0"
   ]
  },
  {
   "cell_type": "code",
   "execution_count": 17,
   "id": "a4d0efc3",
   "metadata": {},
   "outputs": [
    {
     "name": "stdout",
     "output_type": "stream",
     "text": [
      "<HDF5 dataset \"WAVETOY::phi timelevel 0 at iteration 0\": shape (30, 30, 30), type \"<f8\">\n"
     ]
    }
   ],
   "source": [
    "print (t0)"
   ]
  },
  {
   "cell_type": "code",
   "execution_count": null,
   "id": "e4f94172",
   "metadata": {},
   "outputs": [],
   "source": []
  }
 ],
 "metadata": {
  "kernelspec": {
   "display_name": "Python 3.10.4 64-bit",
   "language": "python",
   "name": "python3"
  },
  "language_info": {
   "codemirror_mode": {
    "name": "ipython",
    "version": 3
   },
   "file_extension": ".py",
   "mimetype": "text/x-python",
   "name": "python",
   "nbconvert_exporter": "python",
   "pygments_lexer": "ipython3",
   "version": "3.10.4"
  },
  "vscode": {
   "interpreter": {
    "hash": "916dbcbb3f70747c44a77c7bcd40155683ae19c65e1c03b4aa3499c5328201f1"
   }
  }
 },
 "nbformat": 4,
 "nbformat_minor": 5
}
