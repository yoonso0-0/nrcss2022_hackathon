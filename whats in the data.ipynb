{
 "cells": [
  {
   "cell_type": "code",
   "execution_count": 1,
   "id": "50ffec73",
   "metadata": {},
   "outputs": [],
   "source": [
    "import h5py\n",
    "import numpy as np\n",
    "\n"
   ]
  },
  {
   "cell_type": "markdown",
   "id": "1f870890",
   "metadata": {},
   "source": [
    "# Spectre Data"
   ]
  },
  {
   "cell_type": "code",
   "execution_count": 5,
   "id": "05aa71fd",
   "metadata": {},
   "outputs": [
    {
     "data": {
      "text/plain": [
       "<KeysViewHDF5 ['VolumePsi.vol', 'src.tar.gz']>"
      ]
     },
     "execution_count": 5,
     "metadata": {},
     "output_type": "execute_result"
    }
   ],
   "source": [
    "f = h5py.File(\"/home/akshay/NR_workshop_ICERM/nrcss2022_hackathon/SpectreVolumeData/PlaneWaveMinkowski3DLowResVolume0.h5\",\"r\")\n",
    "f.keys()"
   ]
  },
  {
   "cell_type": "code",
   "execution_count": 6,
   "id": "64ac7f56",
   "metadata": {},
   "outputs": [],
   "source": [
    "VolumePsi = f.get(\"VolumePsi.vol\")\n",
    "src = f.get(\"src.tar.gz\")"
   ]
  },
  {
   "cell_type": "code",
   "execution_count": 7,
   "id": "b3dd8712",
   "metadata": {},
   "outputs": [
    {
     "data": {
      "text/plain": [
       "<KeysViewHDF5 ['ObservationId8897018137866553916']>"
      ]
     },
     "execution_count": 7,
     "metadata": {},
     "output_type": "execute_result"
    }
   ],
   "source": [
    "VolumePsi.keys()"
   ]
  },
  {
   "cell_type": "code",
   "execution_count": 8,
   "id": "2a7ad8e6",
   "metadata": {},
   "outputs": [],
   "source": [
    "ObsId = VolumePsi.get('ObservationId8897018137866553916')"
   ]
  },
  {
   "cell_type": "code",
   "execution_count": 9,
   "id": "6b0ebdde",
   "metadata": {},
   "outputs": [
    {
     "data": {
      "text/plain": [
       "<KeysViewHDF5 ['InertialCoordinates_x', 'InertialCoordinates_y', 'InertialCoordinates_z', 'Psi', 'bases', 'connectivity', 'grid_names', 'quadratures', 'total_extents']>"
      ]
     },
     "execution_count": 9,
     "metadata": {},
     "output_type": "execute_result"
    }
   ],
   "source": [
    "ObsId.keys()"
   ]
  },
  {
   "cell_type": "code",
   "execution_count": 10,
   "id": "e04f764a",
   "metadata": {},
   "outputs": [],
   "source": [
    "x = np.array(ObsId.get('InertialCoordinates_x'))\n",
    "y = np.array(ObsId.get('InertialCoordinates_y'))\n",
    "z = np.array(ObsId.get('InertialCoordinates_y'))"
   ]
  },
  {
   "cell_type": "code",
   "execution_count": null,
   "id": "4faa22d8",
   "metadata": {},
   "outputs": [],
   "source": []
  },
  {
   "cell_type": "code",
   "execution_count": null,
   "id": "c842ba56",
   "metadata": {},
   "outputs": [],
   "source": []
  },
  {
   "cell_type": "markdown",
   "id": "a24cfe8a",
   "metadata": {},
   "source": [
    "# Einstein Toolkit data"
   ]
  },
  {
   "cell_type": "code",
   "execution_count": 13,
   "id": "7fd8fa94",
   "metadata": {},
   "outputs": [
    {
     "data": {
      "text/plain": [
       "<KeysViewHDF5 ['Cactus Parameters', 'Global Attributes', 'WAVETOY::phi timelevel 0 at iteration 0', 'WAVETOY::phi timelevel 0 at iteration 10', 'WAVETOY::phi timelevel 0 at iteration 100', 'WAVETOY::phi timelevel 0 at iteration 110', 'WAVETOY::phi timelevel 0 at iteration 120', 'WAVETOY::phi timelevel 0 at iteration 130', 'WAVETOY::phi timelevel 0 at iteration 140', 'WAVETOY::phi timelevel 0 at iteration 150', 'WAVETOY::phi timelevel 0 at iteration 160', 'WAVETOY::phi timelevel 0 at iteration 170', 'WAVETOY::phi timelevel 0 at iteration 180', 'WAVETOY::phi timelevel 0 at iteration 190', 'WAVETOY::phi timelevel 0 at iteration 20', 'WAVETOY::phi timelevel 0 at iteration 200', 'WAVETOY::phi timelevel 0 at iteration 210', 'WAVETOY::phi timelevel 0 at iteration 220', 'WAVETOY::phi timelevel 0 at iteration 230', 'WAVETOY::phi timelevel 0 at iteration 240', 'WAVETOY::phi timelevel 0 at iteration 250', 'WAVETOY::phi timelevel 0 at iteration 260', 'WAVETOY::phi timelevel 0 at iteration 270', 'WAVETOY::phi timelevel 0 at iteration 280', 'WAVETOY::phi timelevel 0 at iteration 290', 'WAVETOY::phi timelevel 0 at iteration 30', 'WAVETOY::phi timelevel 0 at iteration 300', 'WAVETOY::phi timelevel 0 at iteration 310', 'WAVETOY::phi timelevel 0 at iteration 320', 'WAVETOY::phi timelevel 0 at iteration 330', 'WAVETOY::phi timelevel 0 at iteration 340', 'WAVETOY::phi timelevel 0 at iteration 350', 'WAVETOY::phi timelevel 0 at iteration 360', 'WAVETOY::phi timelevel 0 at iteration 370', 'WAVETOY::phi timelevel 0 at iteration 380', 'WAVETOY::phi timelevel 0 at iteration 390', 'WAVETOY::phi timelevel 0 at iteration 40', 'WAVETOY::phi timelevel 0 at iteration 400', 'WAVETOY::phi timelevel 0 at iteration 410', 'WAVETOY::phi timelevel 0 at iteration 420', 'WAVETOY::phi timelevel 0 at iteration 430', 'WAVETOY::phi timelevel 0 at iteration 440', 'WAVETOY::phi timelevel 0 at iteration 450', 'WAVETOY::phi timelevel 0 at iteration 460', 'WAVETOY::phi timelevel 0 at iteration 470', 'WAVETOY::phi timelevel 0 at iteration 480', 'WAVETOY::phi timelevel 0 at iteration 490', 'WAVETOY::phi timelevel 0 at iteration 50', 'WAVETOY::phi timelevel 0 at iteration 500', 'WAVETOY::phi timelevel 0 at iteration 60', 'WAVETOY::phi timelevel 0 at iteration 70', 'WAVETOY::phi timelevel 0 at iteration 80', 'WAVETOY::phi timelevel 0 at iteration 90']>"
      ]
     },
     "execution_count": 13,
     "metadata": {},
     "output_type": "execute_result"
    }
   ],
   "source": [
    "ETdata = h5py.File(\"ETK_phi.h5\", \"r\")\n",
    "ETdata.keys()"
   ]
  },
  {
   "cell_type": "code",
   "execution_count": 18,
   "id": "d5fa186b",
   "metadata": {},
   "outputs": [
    {
     "data": {
      "text/plain": [
       "array([[[9.91427263e-01, 9.91427263e-01, 9.68924217e-01, ...,\n",
       "         3.13634218e-04, 1.68735000e-04, 8.87188422e-05],\n",
       "        [9.91427263e-01, 9.91427263e-01, 9.68924217e-01, ...,\n",
       "         3.13634218e-04, 1.68735000e-04, 8.87188422e-05],\n",
       "        [9.68924217e-01, 9.68924217e-01, 9.46931936e-01, ...,\n",
       "         3.06515465e-04, 1.64905116e-04, 8.67051350e-05],\n",
       "        ...,\n",
       "        [3.13634218e-04, 3.13634218e-04, 3.06515465e-04, ...,\n",
       "         9.92169835e-08, 5.33786709e-08, 2.80658659e-08],\n",
       "        [1.68735000e-04, 1.68735000e-04, 1.64905116e-04, ...,\n",
       "         5.33786709e-08, 2.87176893e-08, 1.50994171e-08],\n",
       "        [8.87188422e-05, 8.87188422e-05, 8.67051350e-05, ...,\n",
       "         2.80658659e-08, 1.50994171e-08, 7.93909271e-09]],\n",
       "\n",
       "       [[9.91427263e-01, 9.91427263e-01, 9.68924217e-01, ...,\n",
       "         3.13634218e-04, 1.68735000e-04, 8.87188422e-05],\n",
       "        [9.91427263e-01, 9.91427263e-01, 9.68924217e-01, ...,\n",
       "         3.13634218e-04, 1.68735000e-04, 8.87188422e-05],\n",
       "        [9.68924217e-01, 9.68924217e-01, 9.46931936e-01, ...,\n",
       "         3.06515465e-04, 1.64905116e-04, 8.67051350e-05],\n",
       "        ...,\n",
       "        [3.13634218e-04, 3.13634218e-04, 3.06515465e-04, ...,\n",
       "         9.92169835e-08, 5.33786709e-08, 2.80658659e-08],\n",
       "        [1.68735000e-04, 1.68735000e-04, 1.64905116e-04, ...,\n",
       "         5.33786709e-08, 2.87176893e-08, 1.50994171e-08],\n",
       "        [8.87188422e-05, 8.87188422e-05, 8.67051350e-05, ...,\n",
       "         2.80658659e-08, 1.50994171e-08, 7.93909271e-09]],\n",
       "\n",
       "       [[9.68924217e-01, 9.68924217e-01, 9.46931936e-01, ...,\n",
       "         3.06515465e-04, 1.64905116e-04, 8.67051350e-05],\n",
       "        [9.68924217e-01, 9.68924217e-01, 9.46931936e-01, ...,\n",
       "         3.06515465e-04, 1.64905116e-04, 8.67051350e-05],\n",
       "        [9.46931936e-01, 9.46931936e-01, 9.25438828e-01, ...,\n",
       "         2.99558291e-04, 1.61162161e-04, 8.47371342e-05],\n",
       "        ...,\n",
       "        [3.06515465e-04, 3.06515465e-04, 2.99558291e-04, ...,\n",
       "         9.69649934e-08, 5.21671017e-08, 2.74288374e-08],\n",
       "        [1.64905116e-04, 1.64905116e-04, 1.61162161e-04, ...,\n",
       "         5.21671017e-08, 2.80658659e-08, 1.47566962e-08],\n",
       "        [8.67051350e-05, 8.67051350e-05, 8.47371342e-05, ...,\n",
       "         2.74288374e-08, 1.47566962e-08, 7.75889414e-09]],\n",
       "\n",
       "       ...,\n",
       "\n",
       "       [[3.13634218e-04, 3.13634218e-04, 3.06515465e-04, ...,\n",
       "         9.92169835e-08, 5.33786709e-08, 2.80658659e-08],\n",
       "        [3.13634218e-04, 3.13634218e-04, 3.06515465e-04, ...,\n",
       "         9.92169835e-08, 5.33786709e-08, 2.80658659e-08],\n",
       "        [3.06515465e-04, 3.06515465e-04, 2.99558291e-04, ...,\n",
       "         9.69649934e-08, 5.21671017e-08, 2.74288374e-08],\n",
       "        ...,\n",
       "        [9.92169835e-08, 9.92169835e-08, 9.69649934e-08, ...,\n",
       "         3.13869127e-11, 1.68861381e-11, 8.87852919e-12],\n",
       "        [5.33786709e-08, 5.33786709e-08, 5.21671017e-08, ...,\n",
       "         1.68861381e-11, 9.08473103e-12, 4.77664278e-12],\n",
       "        [2.80658659e-08, 2.80658659e-08, 2.74288374e-08, ...,\n",
       "         8.87852919e-12, 4.77664278e-12, 2.51150157e-12]],\n",
       "\n",
       "       [[1.68735000e-04, 1.68735000e-04, 1.64905116e-04, ...,\n",
       "         5.33786709e-08, 2.87176893e-08, 1.50994171e-08],\n",
       "        [1.68735000e-04, 1.68735000e-04, 1.64905116e-04, ...,\n",
       "         5.33786709e-08, 2.87176893e-08, 1.50994171e-08],\n",
       "        [1.64905116e-04, 1.64905116e-04, 1.61162161e-04, ...,\n",
       "         5.21671017e-08, 2.80658659e-08, 1.47566962e-08],\n",
       "        ...,\n",
       "        [5.33786709e-08, 5.33786709e-08, 5.21671017e-08, ...,\n",
       "         1.68861381e-11, 9.08473103e-12, 4.77664278e-12],\n",
       "        [2.87176893e-08, 2.87176893e-08, 2.80658659e-08, ...,\n",
       "         9.08473103e-12, 4.88757923e-12, 2.56983063e-12],\n",
       "        [1.50994171e-08, 1.50994171e-08, 1.47566962e-08, ...,\n",
       "         4.77664278e-12, 2.56983063e-12, 1.35118617e-12]],\n",
       "\n",
       "       [[8.87188422e-05, 8.87188422e-05, 8.67051350e-05, ...,\n",
       "         2.80658659e-08, 1.50994171e-08, 7.93909271e-09],\n",
       "        [8.87188422e-05, 8.87188422e-05, 8.67051350e-05, ...,\n",
       "         2.80658659e-08, 1.50994171e-08, 7.93909271e-09],\n",
       "        [8.67051350e-05, 8.67051350e-05, 8.47371342e-05, ...,\n",
       "         2.74288374e-08, 1.47566962e-08, 7.75889414e-09],\n",
       "        ...,\n",
       "        [2.80658659e-08, 2.80658659e-08, 2.74288374e-08, ...,\n",
       "         8.87852919e-12, 4.77664278e-12, 2.51150157e-12],\n",
       "        [1.50994171e-08, 1.50994171e-08, 1.47566962e-08, ...,\n",
       "         4.77664278e-12, 2.56983063e-12, 1.35118617e-12],\n",
       "        [7.93909271e-09, 7.93909271e-09, 7.75889414e-09, ...,\n",
       "         2.51150157e-12, 1.35118617e-12, 7.10437507e-13]]])"
      ]
     },
     "execution_count": 18,
     "metadata": {},
     "output_type": "execute_result"
    }
   ],
   "source": [
    "t0 = np.array(ETdata.get( 'WAVETOY::phi timelevel 0 at iteration 0'))\n",
    "t0"
   ]
  },
  {
   "cell_type": "code",
   "execution_count": 17,
   "id": "64159275",
   "metadata": {},
   "outputs": [
    {
     "name": "stdout",
     "output_type": "stream",
     "text": [
      "<HDF5 dataset \"WAVETOY::phi timelevel 0 at iteration 0\": shape (30, 30, 30), type \"<f8\">\n"
     ]
    }
   ],
   "source": [
    "print (t0)"
   ]
  },
  {
   "cell_type": "code",
   "execution_count": null,
   "id": "529a1068",
   "metadata": {},
   "outputs": [],
   "source": []
  }
 ],
 "metadata": {
  "kernelspec": {
   "display_name": "Python 3 (ipykernel)",
   "language": "python",
   "name": "python3"
  },
  "language_info": {
   "codemirror_mode": {
    "name": "ipython",
    "version": 3
   },
   "file_extension": ".py",
   "mimetype": "text/x-python",
   "name": "python",
   "nbconvert_exporter": "python",
   "pygments_lexer": "ipython3",
   "version": "3.8.11"
  }
 },
 "nbformat": 4,
 "nbformat_minor": 5
}
